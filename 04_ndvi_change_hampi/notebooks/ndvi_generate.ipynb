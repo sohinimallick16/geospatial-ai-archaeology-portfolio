{
 "cells": [
  {
   "cell_type": "code",
   "execution_count": null,
   "id": "d7b293b3",
   "metadata": {},
   "outputs": [
    {
     "name": "stdout",
     "output_type": "stream",
     "text": [
      "NDVI calculation complete. Output saved to: /home/sohinimallick/github/geospatial-ai-archaeology-portfolio/04_ndvi_change_hampi/results/ndvi_hampi_dry.tif\n",
      "NDVI calculation complete. Output saved to: /home/sohinimallick/github/geospatial-ai-archaeology-portfolio/04_ndvi_change_hampi/results/ndvi_hampi_wet.tif\n",
      "NDVI difference saved to: /home/sohinimallick/github/geospatial-ai-archaeology-portfolio/04_ndvi_change_hampi/results/ndvi_diff.tif\n",
      "NDVI generation and difference completed.\n"
     ]
    }
   ],
   "source": [
    "import sys\n",
    "sys.path.append('../')\n",
    "\n",
    "from scripts.ndvi_calculator import calculate_ndvi, compute_ndvi_difference\n",
    "from scripts.paths_to_data_results import get_project_paths\n",
    "\n",
    "# Load paths\n",
    "paths = get_project_paths()\n",
    "\n",
    "# Calculate NDVI for dry season\n",
    "calculate_ndvi(\n",
    "    nir_path=paths['nir_dry'],\n",
    "    red_path=paths['red_dry'],\n",
    "    output_path=paths['ndvi_dry']\n",
    ")\n",
    "\n",
    "# Calculate NDVI for wet season\n",
    "calculate_ndvi(\n",
    "    nir_path=paths['nir_wet'],\n",
    "    red_path=paths['red_wet'],\n",
    "    output_path=paths['ndvi_wet']\n",
    ")\n",
    "\n",
    "# Compute NDVI difference (wet - dry)\n",
    "compute_ndvi_difference(\n",
    "    ndvi1_path=paths['ndvi_dry'],\n",
    "    ndvi2_path=paths['ndvi_wet'],\n",
    "    output_path=paths['ndvi_diff']\n",
    ")\n",
    "\n",
    "print(\"NDVI generation and difference completed.\")\n"
   ]
  }
 ],
 "metadata": {
  "kernelspec": {
   "display_name": "base",
   "language": "python",
   "name": "python3"
  },
  "language_info": {
   "codemirror_mode": {
    "name": "ipython",
    "version": 3
   },
   "file_extension": ".py",
   "mimetype": "text/x-python",
   "name": "python",
   "nbconvert_exporter": "python",
   "pygments_lexer": "ipython3",
   "version": "3.13.5"
  }
 },
 "nbformat": 4,
 "nbformat_minor": 5
}
