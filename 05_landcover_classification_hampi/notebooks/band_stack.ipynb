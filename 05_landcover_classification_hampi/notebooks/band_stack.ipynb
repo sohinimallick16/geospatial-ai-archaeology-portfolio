{
 "cells": [
  {
   "cell_type": "code",
   "execution_count": 1,
   "id": "58e3386d",
   "metadata": {},
   "outputs": [
    {
     "name": "stdout",
     "output_type": "stream",
     "text": [
      "Stacked raster saved to: /home/sohinimallick/github/geospatial-ai-archaeology-portfolio/05_landcover_classification_hampi/data/sentinel_stack.tif\n"
     ]
    }
   ],
   "source": [
    "import sys\n",
    "sys.path.append('../')\n",
    "from scripts.band_stacking import stack_bands\n",
    "from scripts.paths_to_folders import get_project_paths\n",
    "# Load paths\n",
    "paths = get_project_paths()\n",
    "\n",
    "\n",
    "band_paths = [\n",
    "    paths['blue_band'],\n",
    "    paths['green_band'],\n",
    "    paths['red_band'],\n",
    "    paths['nir_band']\n",
    "]\n",
    "\n",
    "output_path = paths['stacked_raster']\n",
    "\n",
    "stack_bands(band_paths, output_path)\n"
   ]
  }
 ],
 "metadata": {
  "kernelspec": {
   "display_name": "base",
   "language": "python",
   "name": "python3"
  },
  "language_info": {
   "codemirror_mode": {
    "name": "ipython",
    "version": 3
   },
   "file_extension": ".py",
   "mimetype": "text/x-python",
   "name": "python",
   "nbconvert_exporter": "python",
   "pygments_lexer": "ipython3",
   "version": "3.13.5"
  }
 },
 "nbformat": 4,
 "nbformat_minor": 5
}
