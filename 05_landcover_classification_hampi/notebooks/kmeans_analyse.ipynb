{
 "cells": [
  {
   "cell_type": "code",
   "execution_count": 1,
   "id": "b8c6f7b1",
   "metadata": {},
   "outputs": [
    {
     "name": "stdout",
     "output_type": "stream",
     "text": [
      "Histogram saved to /home/sohinimallick/github/geospatial-ai-archaeology-portfolio/05_landcover_classification_hampi/results/kmeans_class_distribution.png\n"
     ]
    }
   ],
   "source": [
    "import sys\n",
    "sys.path.append('../')\n",
    "from scripts.kmeans_analyse import plot_class_distribution\n",
    "from scripts.paths_to_folders import get_project_paths\n",
    "\n",
    "paths = get_project_paths()\n",
    "\n",
    "plot_class_distribution(\n",
    "    classified_path=paths['land_cover_kmeans'],\n",
    "    output_path=paths['land_cover_visualise']\n",
    ")\n"
   ]
  }
 ],
 "metadata": {
  "kernelspec": {
   "display_name": "base",
   "language": "python",
   "name": "python3"
  },
  "language_info": {
   "codemirror_mode": {
    "name": "ipython",
    "version": 3
   },
   "file_extension": ".py",
   "mimetype": "text/x-python",
   "name": "python",
   "nbconvert_exporter": "python",
   "pygments_lexer": "ipython3",
   "version": "3.13.5"
  }
 },
 "nbformat": 4,
 "nbformat_minor": 5
}
