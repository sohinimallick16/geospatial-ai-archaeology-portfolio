{
 "cells": [
  {
   "cell_type": "code",
   "execution_count": null,
   "id": "7bd6a5ce",
   "metadata": {},
   "outputs": [
    {
     "name": "stdout",
     "output_type": "stream",
     "text": [
      "Running K-Means...\n",
      "Classified raster saved to /home/sohinimallick/github/geospatial-ai-archaeology-portfolio/05_landcover_classification_hampi/results/land_cover_kmeans.tif\n"
     ]
    }
   ],
   "source": [
    "import sys\n",
    "sys.path.append('../')\n",
    "from scripts.kmeans_classifier import classify_land_cover\n",
    "from scripts.paths_to_folders import get_project_paths\n",
    "\n",
    "paths = get_project_paths()\n",
    "\n",
    "stack_path = paths['stacked_raster']\n",
    "output_path = paths['land_cover_kmeans']\n",
    "\n",
    "classify_land_cover(stack_path, output_path, n_classes=5)\n"
   ]
  }
 ],
 "metadata": {
  "kernelspec": {
   "display_name": "base",
   "language": "python",
   "name": "python3"
  },
  "language_info": {
   "codemirror_mode": {
    "name": "ipython",
    "version": 3
   },
   "file_extension": ".py",
   "mimetype": "text/x-python",
   "name": "python",
   "nbconvert_exporter": "python",
   "pygments_lexer": "ipython3",
   "version": "3.13.5"
  }
 },
 "nbformat": 4,
 "nbformat_minor": 5
}
