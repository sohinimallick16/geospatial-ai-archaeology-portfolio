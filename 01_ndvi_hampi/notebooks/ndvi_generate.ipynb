{
 "cells": [
  {
   "cell_type": "code",
   "execution_count": 1,
   "id": "d7b293b3",
   "metadata": {},
   "outputs": [],
   "source": [
    "import os, sys\n",
    "sys.path.append('../')\n",
    "from scripts.ndvi_calculator import calculate_ndvi\n",
    "\n",
    "# Set project root\n",
    "ROOT = os.path.abspath('..')\n",
    "\n",
    "# Set folder paths\n",
    "DATA_DIR = os.path.join(ROOT, 'data')\n",
    "RESULTS_DIR = os.path.join(ROOT, 'results')\n",
    "\n"
   ]
  },
  {
   "cell_type": "code",
   "execution_count": 2,
   "id": "0adac27a",
   "metadata": {},
   "outputs": [
    {
     "name": "stdout",
     "output_type": "stream",
     "text": [
      "NDVI calculation complete. Output saved to: /home/sohinimallick/github/geospatial-ai-archaeology-portfolio/01_ndvi_hampi/results/ndvi_hampi.tiff\n"
     ]
    }
   ],
   "source": [
    "nir_path = os.path.join(DATA_DIR, 'B08.tiff')\n",
    "red_path = os.path.join(DATA_DIR, 'B04.tiff')\n",
    "output_path = os.path.join(RESULTS_DIR, 'ndvi_hampi.tiff')\n",
    "\n",
    "calculate_ndvi(\n",
    "    nir_path=nir_path,\n",
    "    red_path=red_path,\n",
    "    output_path=output_path\n",
    ")"
   ]
  }
 ],
 "metadata": {
  "kernelspec": {
   "display_name": "Python 3",
   "language": "python",
   "name": "python3"
  },
  "language_info": {
   "codemirror_mode": {
    "name": "ipython",
    "version": 3
   },
   "file_extension": ".py",
   "mimetype": "text/x-python",
   "name": "python",
   "nbconvert_exporter": "python",
   "pygments_lexer": "ipython3",
   "version": "3.8.10"
  }
 },
 "nbformat": 4,
 "nbformat_minor": 5
}
